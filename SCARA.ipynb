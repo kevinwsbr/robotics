{
 "cells": [
  {
   "cell_type": "markdown",
   "id": "53c10219",
   "metadata": {},
   "source": [
    "# Robótica - AB2"
   ]
  },
  {
   "cell_type": "markdown",
   "id": "7631d169",
   "metadata": {},
   "source": [
    "## Definições iniciais"
   ]
  },
  {
   "cell_type": "code",
   "execution_count": null,
   "id": "feea5e2a",
   "metadata": {},
   "outputs": [],
   "source": [
    "from zmqRemoteApi import RemoteAPIClient\n",
    "import matplotlib.pyplot as plt\n",
    "import numpy as np\n",
    "import math\n",
    "import time\n",
    "\n",
    "l1 = 0.475\n",
    "l2 = 0.4\n",
    "offset = 0.1\n",
    "\n",
    "tol = 0.1\n",
    "dt = 0.05"
   ]
  },
  {
   "cell_type": "markdown",
   "id": "c207832e",
   "metadata": {},
   "source": [
    "## Modelagem cinemática do SCARA\n",
    "\n",
    "Os parâmetros D-H são explicados na tabela abaixo:\n",
    "\n",
    "|Junta $i$|$\\theta_i$  |$d_i$|$a_i$  |$\\alpha_i$|\n",
    "|---------|:----------:|-----|-------|----------|\n",
    "| 1       |$\\theta_1$       |$0$  |$a_1$  |$0    $   |\n",
    "| 2       |$\\theta_2$       |$0$  |$a_2$  |$0$       |\n",
    "| 3       |$\\theta_3$       |$0$  |$0  $  |$\\pi   $  |\n",
    "| 4       |$ 0 $       |$d_4$|$0  $  |$0    $   |\n",
    "\n",
    "Onde $a_1 = 0.475 m$ e $a_2 = 0.4 m$. As matrizes obtidas foram:\n",
    "\n",
    "$$A^0_1 = \\begin{bmatrix}\n",
    "cos(\\theta_1)&-sen(\\theta_1)&0&0.475 \\cdot cos(\\theta_1)\\\\\n",
    "sen(\\theta_1)&cos(\\theta_1)&0&0.475 \\cdot sen(\\theta_1)\\\\\n",
    "0&0&1&0\\\\\n",
    "0&0&0&1\n",
    "\\end{bmatrix}$$\n",
    "\n",
    "$$A^1_2 = \\begin{bmatrix}\n",
    "cos(\\theta_2)&sen(\\theta_2)&0&0.4 \\cdot cos(\\theta_2)\\\\\n",
    "sen(\\theta_2)&-cos(\\theta_2)&0&0.4 \\cdot sen(\\theta_2)\\\\\n",
    "0&0&-1&0\\\\\n",
    "0&0&0&1\n",
    "\\end{bmatrix}$$\n",
    "\n",
    "$$A^2_3 = \\begin{bmatrix}\n",
    "cos(\\theta_3)&-sen(\\theta_3)&0&0\\\\\n",
    "sen(\\theta_3)&cos(\\theta_3)&0&0\\\\\n",
    "0&0&1&0\\\\\n",
    "0&0&0&1\n",
    "\\end{bmatrix}$$\n",
    "\n",
    "$$A^3_4 = \\begin{bmatrix}\n",
    "1&0&0&0\\\\\n",
    "0&1&0&0\\\\\n",
    "0&0&1&d_4\\\\\n",
    "0&0&0&1\n",
    "\\end{bmatrix}$$\n",
    "\n",
    "Dessa forma, pode-se obter a matriz de transformação que relaciona o end effector à base do manipulador fazendo:\n",
    "\n",
    "$$ A^0_6 = A^0_1 \\cdot A^1_2 \\cdot A^2_3 \\cdot A^3_4 = \\begin{bmatrix}\n",
    "cos(\\theta_1 + \\theta_2 - \\theta_3)&-sen(\\theta_1 + \\theta_2 - \\theta_3)&0&L_1 cos(\\theta_1) + L_2 cos(\\theta_1 + \\theta_2)\\\\\n",
    "sen(\\theta_1 + \\theta_2 - \\theta_3)&cos(\\theta_1 + \\theta_2 - \\theta_3)&0&L_1 sen(\\theta_1) + L_2 sen(\\theta_1 + \\theta_2)\\\\\n",
    "0&0&-1&-d_4\\\\\n",
    "0&0&0&1\n",
    "\\end{bmatrix}$$"
   ]
  },
  {
   "cell_type": "markdown",
   "id": "13e18885",
   "metadata": {},
   "source": [
    "### Cinemática Direta"
   ]
  },
  {
   "cell_type": "code",
   "execution_count": null,
   "id": "d4c33ac3",
   "metadata": {},
   "outputs": [],
   "source": [
    "def fkine(t1, t2, t3, d4):\n",
    "    return np.array([[math.cos(t1 + t2 - t3), -math.sin(t1 + t2 - t3), 0, l1 * math.cos(t1) + l2 * math.cos(t1 + t2)],\n",
    "                    [math.sin(t1 + t2 - t3), math.cos(t1 + t2 - t3), 0, l1 * math.sin(t1) + l2 * math.sin(t1 + t2)],\n",
    "                    [0, 0, -1, -d4],\n",
    "                    [0, 0, 0, 1]])"
   ]
  },
  {
   "cell_type": "markdown",
   "id": "046d577e",
   "metadata": {},
   "source": [
    "## Modelagem dinâmica"
   ]
  },
  {
   "cell_type": "markdown",
   "id": "49669696",
   "metadata": {},
   "source": [
    "Tem-se a matriz Jacobiana dada por:\n",
    "    \n",
    "$$J = \\begin{bmatrix}\n",
    "z_0 \\cdot (p - p_0) & z_1 \\cdot (p - p_1) & z_2 \\cdot (p - p_2) & z_3\\\\\n",
    "z_0 & z_1 & z_2 & 0\\\\\n",
    "\\end{bmatrix}$$"
   ]
  },
  {
   "cell_type": "markdown",
   "id": "804f77a4",
   "metadata": {},
   "source": [
    "### Jacobiana"
   ]
  },
  {
   "cell_type": "code",
   "execution_count": null,
   "id": "d56081d6",
   "metadata": {},
   "outputs": [],
   "source": [
    "def jacobian(t1, t2):\n",
    "    return np.array([[-l2 * math.sin(t1 + t2) - l1 * math.sin(t1), -l2 * math.sin(t1 + t2), 0, 0],\n",
    "                    [l2 * math.cos(t1 + t2) + l1 * math.cos(t1), l2 * math.cos(t1 + t2), 0, 0],\n",
    "                    [0, 0, -1, 0],\n",
    "                    [0, 0, 0, 0],\n",
    "                    [0, 0, 0, 0],\n",
    "                    [1, 1, 0, -1]])"
   ]
  },
  {
   "cell_type": "markdown",
   "id": "5ca8ddf1",
   "metadata": {},
   "source": [
    "## Métodos auxiliares"
   ]
  },
  {
   "cell_type": "code",
   "execution_count": null,
   "id": "413d4ce4",
   "metadata": {},
   "outputs": [],
   "source": [
    "def getJointAngles():\n",
    "    return np.array([sim.getJointPosition(sim.getObject('/MTB/axis')),\n",
    "                    sim.getJointPosition(sim.getObject('/MTB/link/axis')),\n",
    "                    sim.getJointPosition(sim.getObject('/MTB/link/axis/link/axis')),\n",
    "                    sim.getJointPosition(sim.getObject('/MTB/link/axis/link/axis/axis'))])\n",
    "\n",
    "\n",
    "def getMatrix(objectHandler):\n",
    "    matrix = sim.getObjectMatrix(objectHandler, -1)\n",
    "\n",
    "    return np.array([[matrix[0], matrix[4], matrix[8], matrix[3]],\n",
    "                    [matrix[1], matrix[5], matrix[9], matrix[7]],\n",
    "                    [matrix[2], matrix[6], matrix[10], matrix[11]],\n",
    "                    [0, 0, 0, 1]])\n",
    "\n",
    "\n",
    "def setJointAngles(alpha, beta, gamma, delta):\n",
    "    fistJointHandler = sim.getObject('/MTB/axis')\n",
    "    secondJointHandler = sim.getObject('/MTB/link/axis')\n",
    "    thirdJointHandler = sim.getObject('/MTB/link/axis/link/axis')\n",
    "    fourthJointHandler = sim.getObject('/MTB/link/axis/link/axis/axis')\n",
    "\n",
    "    sim.setJointPosition(fistJointHandler, alpha)\n",
    "    sim.setJointPosition(secondJointHandler, beta)\n",
    "    sim.setJointPosition(thirdJointHandler, delta)\n",
    "    sim.setJointPosition(fourthJointHandler, gamma - offset)\n",
    "\n",
    "\n",
    "def extractPose(T):\n",
    "    x = T[0][3]\n",
    "    y = T[1][3]\n",
    "    z = T[2][3]\n",
    "\n",
    "    roll = math.atan2(T[2][1], T[2][2])\n",
    "    pitch = math.atan2(-T[2][0], math.sqrt(T[2][1]**2 + T[2][2]**2))\n",
    "    yaw = math.atan2(T[1][0], T[0][0])\n",
    "\n",
    "    return np.array([x, y, z, roll, pitch, yaw])\n",
    "\n",
    "\n",
    "def plotUniqueLegend():\n",
    "    handles, labels = axis.get_legend_handles_labels()\n",
    "    unique = [(h, l) for i, (h, l) in enumerate(zip(handles, labels)) if l not in labels[:i]]\n",
    "    axis.legend(*zip(*unique))\n",
    "\n",
    "\n",
    "def plotError(current, goal):\n",
    "    plt.plot(np.array(current)[:, 0] - np.array(goal)[:, 0], linestyle='-', label='x', color='C0')\n",
    "    plt.plot(np.array(current)[:, 1] - np.array(goal)[:, 1], linestyle='-', label='y', color='C1')\n",
    "    plt.plot(np.array(current)[:, 2] - np.array(goal)[:, 2], linestyle='-', label='z', color='C2')\n",
    "    plt.plot(np.array(current)[:, 3] - np.array(goal)[:, 3], linestyle='-', label='roll', color='C3')\n",
    "    plt.plot(np.array(current)[:, 4] - np.array(goal)[:, 4], linestyle='-', label='pitch', color='C4')\n",
    "    plt.plot(np.array(current)[:, 5] - np.array(goal)[:, 5], linestyle='-', label='yaw', color='C5')\n",
    "\n",
    "    plotUniqueLegend()\n",
    "\n",
    "    plt.title('Erro - Pose')\n",
    "\n",
    "    plt.pause(dt)\n",
    "\n",
    "\n",
    "def plotAngles(angles):\n",
    "    axis[0, 0].plot(np.array(angles)[:, 0], linestyle='-', color='royalblue')\n",
    "    axis[0, 0].set_title('Junta 1')\n",
    "\n",
    "    axis[0, 1].plot(np.array(angles)[:, 1], linestyle='-', color='royalblue')\n",
    "    axis[0, 1].set_title('Junta 2')\n",
    "\n",
    "    axis[1, 0].plot(np.array(angles)[:, 2], linestyle='-', color='royalblue')\n",
    "    axis[1, 0].set_title('Junta 3')\n",
    "\n",
    "    axis[1, 1].plot(np.array(angles)[:, 3], linestyle='-', color='royalblue')\n",
    "    axis[1, 1].set_title('Junta 4')\n",
    "\n",
    "    plt.pause(dt)"
   ]
  },
  {
   "cell_type": "markdown",
   "id": "ccf694a2",
   "metadata": {},
   "source": [
    "## Simulação no Coppelia"
   ]
  },
  {
   "cell_type": "code",
   "execution_count": null,
   "id": "2198c080",
   "metadata": {},
   "outputs": [],
   "source": [
    "# figure, axis = plt.subplots()\n",
    "# figure, axis = plt.subplots(2, 2)\n",
    "goal = []\n",
    "current = []\n",
    "angles = []\n",
    "\n",
    "client = RemoteAPIClient()\n",
    "sim = client.getObject('sim')\n",
    "client.setStepping(True)\n",
    "\n",
    "sim.startSimulation()\n",
    "\n",
    "dummyHandler = sim.getObjectHandle('/reference')\n",
    "\n",
    "pos = getJointAngles()\n",
    "T = fkine(pos[0], pos[1], pos[2], pos[3])\n",
    "J = jacobian(pos[0], pos[1])\n",
    "\n",
    "goal_pose = extractPose(getMatrix(dummyHandler))\n",
    "robot_pose = extractPose(T)\n",
    "\n",
    "while np.linalg.norm(goal_pose - robot_pose) >= tol:\n",
    "    goal_pose = extractPose(getMatrix(dummyHandler))\n",
    "    goal.append(goal_pose)\n",
    "    angles.append(pos)\n",
    "\n",
    "    J = jacobian(pos[0], pos[1])\n",
    "    J_cross = np.linalg.pinv(J)\n",
    "    q_dot = J_cross @ (goal_pose - robot_pose).T\n",
    "    pos = pos + (q_dot * dt)\n",
    "\n",
    "    setJointAngles(pos[0], pos[1], pos[2], pos[3])\n",
    "    time.sleep(dt)\n",
    "\n",
    "    pos = getJointAngles()\n",
    "    T = fkine(pos[0], pos[1], pos[2], pos[3])\n",
    "\n",
    "    robot_pose = extractPose(T)\n",
    "    current.append(robot_pose)\n",
    "\n",
    "    # plotError(current, goal)\n",
    "    # plotAngles(angles)\n",
    "\n",
    "sim.stopSimulation()\n",
    "plt.show()\n"
   ]
  }
 ],
 "metadata": {
  "kernelspec": {
   "display_name": "Python 3.9.13 64-bit",
   "language": "python",
   "name": "python3"
  },
  "language_info": {
   "codemirror_mode": {
    "name": "ipython",
    "version": 3
   },
   "file_extension": ".py",
   "mimetype": "text/x-python",
   "name": "python",
   "nbconvert_exporter": "python",
   "pygments_lexer": "ipython3",
   "version": "3.9.13"
  },
  "vscode": {
   "interpreter": {
    "hash": "b0fa6594d8f4cbf19f97940f81e996739fb7646882a419484c72d19e05852a7e"
   }
  }
 },
 "nbformat": 4,
 "nbformat_minor": 5
}
